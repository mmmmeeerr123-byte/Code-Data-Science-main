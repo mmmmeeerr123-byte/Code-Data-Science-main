{
 "cells": [
  {
   "cell_type": "markdown",
   "id": "8548668d",
   "metadata": {},
   "source": [
    "\n",
    "# EEG Data Analysis Assignment\n"
   ]
  },
  {
   "cell_type": "markdown",
   "id": "a9693f3b",
   "metadata": {},
   "source": [
    "In this assignment you will analyze the EEG data that you collected yourself. There are different approaches to preprocessing. Here we will model our pipeline after this recent paper (check Methods): https://pmc.ncbi.nlm.nih.gov/articles/PMC10659264/pdf/nihpp-2023.11.07.566051v2.pdf."
   ]
  },
  {
   "cell_type": "markdown",
   "id": "fa9748b9",
   "metadata": {},
   "source": [
    "## Part 1: Put all data in BIDS format"
   ]
  },
  {
   "cell_type": "code",
   "execution_count": 1,
   "id": "7e84ec3e",
   "metadata": {},
   "outputs": [
    {
     "name": "stdout",
     "output_type": "stream",
     "text": [
      "C:\\Users\\Gebruiker\\Desktop\\Code Data Science\\Code-Data-Science\\Code-Data-Science\n"
     ]
    }
   ],
   "source": [
    "import os, glob\n",
    "import numpy as np\n",
    "import pandas as pd\n",
    "import matplotlib.pyplot as plt\n",
    "import mne\n",
    "from mne_bids import BIDSPath, write_raw_bids, read_raw_bids\n",
    "\n",
    "# Define directories:\n",
    "project_dir = os.getcwd()\n",
    "print(project_dir)\n",
    "raw_dir = os.path.join(project_dir, 'raw')\n",
    "bids_dir = os.path.join(project_dir, 'bids')\n",
    "\n",
    "# Define event IDs:\n",
    "event_id = {\n",
    "    'A/standard': 1,\n",
    "    'A/oddball':  2,\n",
    "    'B/standard': 3,\n",
    "    'B/oddball':  4,\n",
    "}"
   ]
  },
  {
   "cell_type": "markdown",
   "id": "0bcf7825",
   "metadata": {},
   "source": [
    "🔥 Please loop over filenames and put all raw data in BIDS format (look up what this means). You can use the functions ```BIDSPath``` and ```write_raw_bids```. We need to take care of a couple of things.\n",
    "\n",
    "First, after loading the raw EEG data, we need to change channels 'M1', 'M2', 'EXG7' and 'EXG8' to type 'misc', and channels 'UP', 'DOWN', 'LEFT' and 'RIGH' to type 'eog'. We also need to set the right montage ('biosemi64').\n",
    "\n",
    "Second, observe that ```write_raw_bids``` takes the \"events\" and \"event_id\" parameters. During EEG acquisition we always sent the same trigger (2) at every sound presentation. However, we would like to include information about state and stimulus, as per the dictionary called \"event_id\" (see previous cell). Please make sure to: (i) find all events in the eeg file, (ii) read information about state and stimulus ID in the corresponding \"*_events.tsv\" file, (iii) update the events according to \"event_id\", (iv) pass the \"events\" and \"event_id\" in ```write_raw_bids```.\n",
    "\n",
    "Third, look at all the json sidecar files, and check whether all information is correct. \n"
   ]
  },
  {
   "cell_type": "code",
   "execution_count": null,
   "metadata": {},
   "outputs": [
    {
     "name": "stdout",
     "output_type": "stream",
     "text": [
      "Extracting EDF parameters from C:\\Users\\Gebruiker\\Desktop\\Code Data Science\\Code-Data-Science\\raw\\sub-01.bdf...\n",
      "BDF file detected\n"
     ]
    },
    {
     "ename": "FileNotFoundError",
     "evalue": "[Errno 2] No such file or directory: 'C:\\\\Users\\\\Gebruiker\\\\Desktop\\\\Code Data Science\\\\Code-Data-Science\\\\raw\\\\sub-01.bdf'",
     "output_type": "error",
     "traceback": [
      "\u001b[1;31m---------------------------------------------------------------------------\u001b[0m",
      "\u001b[1;31mFileNotFoundError\u001b[0m                         Traceback (most recent call last)",
      "Cell \u001b[1;32mIn[11], line 11\u001b[0m\n\u001b[0;32m      8\u001b[0m bdf_file \u001b[38;5;241m=\u001b[39m os\u001b[38;5;241m.\u001b[39mpath\u001b[38;5;241m.\u001b[39mjoin(raw_dir, \u001b[38;5;124mf\u001b[39m\u001b[38;5;124m\"\u001b[39m\u001b[38;5;124msub-\u001b[39m\u001b[38;5;132;01m{\u001b[39;00msubj\u001b[38;5;132;01m}\u001b[39;00m\u001b[38;5;124m.bdf\u001b[39m\u001b[38;5;124m\"\u001b[39m)\n\u001b[0;32m     10\u001b[0m \u001b[38;5;66;03m# lees BDF file\u001b[39;00m\n\u001b[1;32m---> 11\u001b[0m raw \u001b[38;5;241m=\u001b[39m \u001b[43mmne\u001b[49m\u001b[38;5;241;43m.\u001b[39;49m\u001b[43mio\u001b[49m\u001b[38;5;241;43m.\u001b[39;49m\u001b[43mread_raw_bdf\u001b[49m\u001b[43m(\u001b[49m\u001b[43mbdf_file\u001b[49m\u001b[43m,\u001b[49m\u001b[43mpreload\u001b[49m\u001b[38;5;241;43m=\u001b[39;49m\u001b[38;5;28;43;01mTrue\u001b[39;49;00m\u001b[43m)\u001b[49m\n\u001b[0;32m     13\u001b[0m \u001b[38;5;66;03m# bids path creëren\u001b[39;00m\n\u001b[0;32m     14\u001b[0m bids_path \u001b[38;5;241m=\u001b[39m BIDSPath(subject\u001b[38;5;241m=\u001b[39msubj,\n\u001b[0;32m     15\u001b[0m                      task\u001b[38;5;241m=\u001b[39mtask,\n\u001b[0;32m     16\u001b[0m                      root\u001b[38;5;241m=\u001b[39mbids_root,\n\u001b[0;32m     17\u001b[0m                      datatype\u001b[38;5;241m=\u001b[39m\u001b[38;5;124m'\u001b[39m\u001b[38;5;124meeg\u001b[39m\u001b[38;5;124m'\u001b[39m,\n\u001b[0;32m     18\u001b[0m                      extension\u001b[38;5;241m=\u001b[39m\u001b[38;5;124m'\u001b[39m\u001b[38;5;124m.bdf\u001b[39m\u001b[38;5;124m'\u001b[39m,\n\u001b[0;32m     19\u001b[0m                      suffix\u001b[38;5;241m=\u001b[39m\u001b[38;5;124m'\u001b[39m\u001b[38;5;124meeg\u001b[39m\u001b[38;5;124m'\u001b[39m)\n",
      "File \u001b[1;32m~\\miniforge3\\envs\\fods\\Lib\\site-packages\\mne\\io\\edf\\edf.py:1834\u001b[0m, in \u001b[0;36mread_raw_bdf\u001b[1;34m(input_fname, eog, misc, stim_channel, exclude, infer_types, include, preload, units, encoding, exclude_after_unique, verbose)\u001b[0m\n\u001b[0;32m   1832\u001b[0m \u001b[38;5;28;01mif\u001b[39;00m ext \u001b[38;5;241m!=\u001b[39m \u001b[38;5;124m\"\u001b[39m\u001b[38;5;124mbdf\u001b[39m\u001b[38;5;124m\"\u001b[39m:\n\u001b[0;32m   1833\u001b[0m     \u001b[38;5;28;01mraise\u001b[39;00m \u001b[38;5;167;01mNotImplementedError\u001b[39;00m(\u001b[38;5;124mf\u001b[39m\u001b[38;5;124m\"\u001b[39m\u001b[38;5;124mOnly BDF files are supported, got \u001b[39m\u001b[38;5;132;01m{\u001b[39;00mext\u001b[38;5;132;01m}\u001b[39;00m\u001b[38;5;124m.\u001b[39m\u001b[38;5;124m\"\u001b[39m)\n\u001b[1;32m-> 1834\u001b[0m \u001b[38;5;28;01mreturn\u001b[39;00m \u001b[43mRawEDF\u001b[49m\u001b[43m(\u001b[49m\n\u001b[0;32m   1835\u001b[0m \u001b[43m    \u001b[49m\u001b[43minput_fname\u001b[49m\u001b[38;5;241;43m=\u001b[39;49m\u001b[43minput_fname\u001b[49m\u001b[43m,\u001b[49m\n\u001b[0;32m   1836\u001b[0m \u001b[43m    \u001b[49m\u001b[43meog\u001b[49m\u001b[38;5;241;43m=\u001b[39;49m\u001b[43meog\u001b[49m\u001b[43m,\u001b[49m\n\u001b[0;32m   1837\u001b[0m \u001b[43m    \u001b[49m\u001b[43mmisc\u001b[49m\u001b[38;5;241;43m=\u001b[39;49m\u001b[43mmisc\u001b[49m\u001b[43m,\u001b[49m\n\u001b[0;32m   1838\u001b[0m \u001b[43m    \u001b[49m\u001b[43mstim_channel\u001b[49m\u001b[38;5;241;43m=\u001b[39;49m\u001b[43mstim_channel\u001b[49m\u001b[43m,\u001b[49m\n\u001b[0;32m   1839\u001b[0m \u001b[43m    \u001b[49m\u001b[43mexclude\u001b[49m\u001b[38;5;241;43m=\u001b[39;49m\u001b[43mexclude\u001b[49m\u001b[43m,\u001b[49m\n\u001b[0;32m   1840\u001b[0m \u001b[43m    \u001b[49m\u001b[43minfer_types\u001b[49m\u001b[38;5;241;43m=\u001b[39;49m\u001b[43minfer_types\u001b[49m\u001b[43m,\u001b[49m\n\u001b[0;32m   1841\u001b[0m \u001b[43m    \u001b[49m\u001b[43mpreload\u001b[49m\u001b[38;5;241;43m=\u001b[39;49m\u001b[43mpreload\u001b[49m\u001b[43m,\u001b[49m\n\u001b[0;32m   1842\u001b[0m \u001b[43m    \u001b[49m\u001b[43minclude\u001b[49m\u001b[38;5;241;43m=\u001b[39;49m\u001b[43minclude\u001b[49m\u001b[43m,\u001b[49m\n\u001b[0;32m   1843\u001b[0m \u001b[43m    \u001b[49m\u001b[43munits\u001b[49m\u001b[38;5;241;43m=\u001b[39;49m\u001b[43munits\u001b[49m\u001b[43m,\u001b[49m\n\u001b[0;32m   1844\u001b[0m \u001b[43m    \u001b[49m\u001b[43mencoding\u001b[49m\u001b[38;5;241;43m=\u001b[39;49m\u001b[43mencoding\u001b[49m\u001b[43m,\u001b[49m\n\u001b[0;32m   1845\u001b[0m \u001b[43m    \u001b[49m\u001b[43mexclude_after_unique\u001b[49m\u001b[38;5;241;43m=\u001b[39;49m\u001b[43mexclude_after_unique\u001b[49m\u001b[43m,\u001b[49m\n\u001b[0;32m   1846\u001b[0m \u001b[43m    \u001b[49m\u001b[43mverbose\u001b[49m\u001b[38;5;241;43m=\u001b[39;49m\u001b[43mverbose\u001b[49m\u001b[43m,\u001b[49m\n\u001b[0;32m   1847\u001b[0m \u001b[43m\u001b[49m\u001b[43m)\u001b[49m\n",
      "File \u001b[1;32m<decorator-gen-279>:12\u001b[0m, in \u001b[0;36m__init__\u001b[1;34m(self, input_fname, eog, misc, stim_channel, exclude, infer_types, preload, include, units, encoding, exclude_after_unique, verbose)\u001b[0m\n",
      "File \u001b[1;32m~\\miniforge3\\envs\\fods\\Lib\\site-packages\\mne\\io\\edf\\edf.py:152\u001b[0m, in \u001b[0;36mRawEDF.__init__\u001b[1;34m(self, input_fname, eog, misc, stim_channel, exclude, infer_types, preload, include, units, encoding, exclude_after_unique, verbose)\u001b[0m\n\u001b[0;32m    150\u001b[0m logger\u001b[38;5;241m.\u001b[39minfo(\u001b[38;5;124mf\u001b[39m\u001b[38;5;124m\"\u001b[39m\u001b[38;5;124mExtracting EDF parameters from \u001b[39m\u001b[38;5;132;01m{\u001b[39;00minput_fname\u001b[38;5;132;01m}\u001b[39;00m\u001b[38;5;124m...\u001b[39m\u001b[38;5;124m\"\u001b[39m)\n\u001b[0;32m    151\u001b[0m input_fname \u001b[38;5;241m=\u001b[39m os\u001b[38;5;241m.\u001b[39mpath\u001b[38;5;241m.\u001b[39mabspath(input_fname)\n\u001b[1;32m--> 152\u001b[0m info, edf_info, orig_units \u001b[38;5;241m=\u001b[39m \u001b[43m_get_info\u001b[49m\u001b[43m(\u001b[49m\n\u001b[0;32m    153\u001b[0m \u001b[43m    \u001b[49m\u001b[43minput_fname\u001b[49m\u001b[43m,\u001b[49m\n\u001b[0;32m    154\u001b[0m \u001b[43m    \u001b[49m\u001b[43mstim_channel\u001b[49m\u001b[43m,\u001b[49m\n\u001b[0;32m    155\u001b[0m \u001b[43m    \u001b[49m\u001b[43meog\u001b[49m\u001b[43m,\u001b[49m\n\u001b[0;32m    156\u001b[0m \u001b[43m    \u001b[49m\u001b[43mmisc\u001b[49m\u001b[43m,\u001b[49m\n\u001b[0;32m    157\u001b[0m \u001b[43m    \u001b[49m\u001b[43mexclude\u001b[49m\u001b[43m,\u001b[49m\n\u001b[0;32m    158\u001b[0m \u001b[43m    \u001b[49m\u001b[43minfer_types\u001b[49m\u001b[43m,\u001b[49m\n\u001b[0;32m    159\u001b[0m \u001b[43m    \u001b[49m\u001b[43mpreload\u001b[49m\u001b[43m,\u001b[49m\n\u001b[0;32m    160\u001b[0m \u001b[43m    \u001b[49m\u001b[43minclude\u001b[49m\u001b[43m,\u001b[49m\n\u001b[0;32m    161\u001b[0m \u001b[43m    \u001b[49m\u001b[43mexclude_after_unique\u001b[49m\u001b[43m,\u001b[49m\n\u001b[0;32m    162\u001b[0m \u001b[43m\u001b[49m\u001b[43m)\u001b[49m\n\u001b[0;32m    163\u001b[0m logger\u001b[38;5;241m.\u001b[39minfo(\u001b[38;5;124m\"\u001b[39m\u001b[38;5;124mCreating raw.info structure...\u001b[39m\u001b[38;5;124m\"\u001b[39m)\n\u001b[0;32m    165\u001b[0m _validate_type(units, (\u001b[38;5;28mstr\u001b[39m, \u001b[38;5;28;01mNone\u001b[39;00m, \u001b[38;5;28mdict\u001b[39m), \u001b[38;5;124m\"\u001b[39m\u001b[38;5;124munits\u001b[39m\u001b[38;5;124m\"\u001b[39m)\n",
      "File \u001b[1;32m~\\miniforge3\\envs\\fods\\Lib\\site-packages\\mne\\io\\edf\\edf.py:541\u001b[0m, in \u001b[0;36m_get_info\u001b[1;34m(fname, stim_channel, eog, misc, exclude, infer_types, preload, include, exclude_after_unique)\u001b[0m\n\u001b[0;32m    538\u001b[0m eog \u001b[38;5;241m=\u001b[39m eog \u001b[38;5;28;01mif\u001b[39;00m eog \u001b[38;5;129;01mis\u001b[39;00m \u001b[38;5;129;01mnot\u001b[39;00m \u001b[38;5;28;01mNone\u001b[39;00m \u001b[38;5;28;01melse\u001b[39;00m []\n\u001b[0;32m    539\u001b[0m misc \u001b[38;5;241m=\u001b[39m misc \u001b[38;5;28;01mif\u001b[39;00m misc \u001b[38;5;129;01mis\u001b[39;00m \u001b[38;5;129;01mnot\u001b[39;00m \u001b[38;5;28;01mNone\u001b[39;00m \u001b[38;5;28;01melse\u001b[39;00m []\n\u001b[1;32m--> 541\u001b[0m edf_info, orig_units \u001b[38;5;241m=\u001b[39m \u001b[43m_read_header\u001b[49m\u001b[43m(\u001b[49m\n\u001b[0;32m    542\u001b[0m \u001b[43m    \u001b[49m\u001b[43mfname\u001b[49m\u001b[43m,\u001b[49m\u001b[43m \u001b[49m\u001b[43mexclude\u001b[49m\u001b[43m,\u001b[49m\u001b[43m \u001b[49m\u001b[43minfer_types\u001b[49m\u001b[43m,\u001b[49m\u001b[43m \u001b[49m\u001b[43minclude\u001b[49m\u001b[43m,\u001b[49m\u001b[43m \u001b[49m\u001b[43mexclude_after_unique\u001b[49m\n\u001b[0;32m    543\u001b[0m \u001b[43m\u001b[49m\u001b[43m)\u001b[49m\n\u001b[0;32m    545\u001b[0m \u001b[38;5;66;03m# XXX: `tal_ch_names` to pass to `_check_stim_channel` should be computed\u001b[39;00m\n\u001b[0;32m    546\u001b[0m \u001b[38;5;66;03m#      from `edf_info['ch_names']` and `edf_info['tal_idx']` but 'tal_idx'\u001b[39;00m\n\u001b[0;32m    547\u001b[0m \u001b[38;5;66;03m#      contains stim channels that are not TAL.\u001b[39;00m\n\u001b[0;32m    548\u001b[0m stim_channel_idxs, _ \u001b[38;5;241m=\u001b[39m _check_stim_channel(stim_channel, edf_info[\u001b[38;5;124m\"\u001b[39m\u001b[38;5;124mch_names\u001b[39m\u001b[38;5;124m\"\u001b[39m])\n",
      "File \u001b[1;32m~\\miniforge3\\envs\\fods\\Lib\\site-packages\\mne\\io\\edf\\edf.py:515\u001b[0m, in \u001b[0;36m_read_header\u001b[1;34m(fname, exclude, infer_types, include, exclude_after_unique)\u001b[0m\n\u001b[0;32m    513\u001b[0m logger\u001b[38;5;241m.\u001b[39minfo(\u001b[38;5;124mf\u001b[39m\u001b[38;5;124m\"\u001b[39m\u001b[38;5;132;01m{\u001b[39;00mext\u001b[38;5;241m.\u001b[39mupper()\u001b[38;5;132;01m}\u001b[39;00m\u001b[38;5;124m file detected\u001b[39m\u001b[38;5;124m\"\u001b[39m)\n\u001b[0;32m    514\u001b[0m \u001b[38;5;28;01mif\u001b[39;00m ext \u001b[38;5;129;01min\u001b[39;00m (\u001b[38;5;124m\"\u001b[39m\u001b[38;5;124mbdf\u001b[39m\u001b[38;5;124m\"\u001b[39m, \u001b[38;5;124m\"\u001b[39m\u001b[38;5;124medf\u001b[39m\u001b[38;5;124m\"\u001b[39m):\n\u001b[1;32m--> 515\u001b[0m     \u001b[38;5;28;01mreturn\u001b[39;00m \u001b[43m_read_edf_header\u001b[49m\u001b[43m(\u001b[49m\n\u001b[0;32m    516\u001b[0m \u001b[43m        \u001b[49m\u001b[43mfname\u001b[49m\u001b[43m,\u001b[49m\u001b[43m \u001b[49m\u001b[43mexclude\u001b[49m\u001b[43m,\u001b[49m\u001b[43m \u001b[49m\u001b[43minfer_types\u001b[49m\u001b[43m,\u001b[49m\u001b[43m \u001b[49m\u001b[43minclude\u001b[49m\u001b[43m,\u001b[49m\u001b[43m \u001b[49m\u001b[43mexclude_after_unique\u001b[49m\n\u001b[0;32m    517\u001b[0m \u001b[43m    \u001b[49m\u001b[43m)\u001b[49m\n\u001b[0;32m    518\u001b[0m \u001b[38;5;28;01melif\u001b[39;00m ext \u001b[38;5;241m==\u001b[39m \u001b[38;5;124m\"\u001b[39m\u001b[38;5;124mgdf\u001b[39m\u001b[38;5;124m\"\u001b[39m:\n\u001b[0;32m    519\u001b[0m     \u001b[38;5;28;01mreturn\u001b[39;00m _read_gdf_header(fname, exclude, include), \u001b[38;5;28;01mNone\u001b[39;00m\n",
      "File \u001b[1;32m~\\miniforge3\\envs\\fods\\Lib\\site-packages\\mne\\io\\edf\\edf.py:809\u001b[0m, in \u001b[0;36m_read_edf_header\u001b[1;34m(fname, exclude, infer_types, include, exclude_after_unique)\u001b[0m\n\u001b[0;32m    806\u001b[0m \u001b[38;5;250m\u001b[39m\u001b[38;5;124;03m\"\"\"Read header information from EDF+ or BDF file.\"\"\"\u001b[39;00m\n\u001b[0;32m    807\u001b[0m edf_info \u001b[38;5;241m=\u001b[39m {\u001b[38;5;124m\"\u001b[39m\u001b[38;5;124mevents\u001b[39m\u001b[38;5;124m\"\u001b[39m: []}\n\u001b[1;32m--> 809\u001b[0m \u001b[38;5;28;01mwith\u001b[39;00m \u001b[38;5;28;43mopen\u001b[39;49m\u001b[43m(\u001b[49m\u001b[43mfname\u001b[49m\u001b[43m,\u001b[49m\u001b[43m \u001b[49m\u001b[38;5;124;43m\"\u001b[39;49m\u001b[38;5;124;43mrb\u001b[39;49m\u001b[38;5;124;43m\"\u001b[39;49m\u001b[43m)\u001b[49m \u001b[38;5;28;01mas\u001b[39;00m fid:\n\u001b[0;32m    810\u001b[0m     fid\u001b[38;5;241m.\u001b[39mread(\u001b[38;5;241m8\u001b[39m)  \u001b[38;5;66;03m# version (unused here)\u001b[39;00m\n\u001b[0;32m    812\u001b[0m     \u001b[38;5;66;03m# patient ID\u001b[39;00m\n",
      "\u001b[1;31mFileNotFoundError\u001b[0m: [Errno 2] No such file or directory: 'C:\\\\Users\\\\Gebruiker\\\\Desktop\\\\Code Data Science\\\\Code-Data-Science\\\\raw\\\\sub-01.bdf'"
     ]
    }
   ],
   "source": [
    "# Your code goes here. Please add comments.\n",
    "\n",
    "# subject ID\n",
    "subjects = ['01', '02', '03', '04']\n",
    "\n",
    "#load data uit raw\n",
    "for subj in subjects:\n",
    "    bdf_file = os.path.join(raw_dir, f\"sub-{subj}.bdf\")\n",
    "    \n",
    "    # lees BDF file\n",
    "    raw = mne.io.read_raw_bdf(bdf_file, preload=True)\n",
    "\n",
    "    # bids path creëren\n",
    "    bids_path = BIDSPath(subject=subj,\n",
    "                         task=task,\n",
    "                         root=bids_root,\n",
    "                         datatype='eeg',\n",
    "                         extension='.bdf',\n",
    "                         suffix='eeg')\n",
    "    # Convert naar BIDS\n",
    "    write_raw_bids(raw, bids_path, overwrite=True)\n",
    "\n",
    "    # Print structuur\n",
    "    print_dir_tree(bids_root)\n",
    "\n",
    "# afhankelijk van kanaal opslaan\n",
    "# if chan ='M1'or'M2'or'EXG7'or'EXG8'\n",
    "#     type = 'misc'\n",
    "# elif chan = 'UP' or 'DOWN' or 'LEFT' or 'RIGH'\n",
    "#     type = 'eog'"
   ]
  },
  {
   "cell_type": "markdown",
   "id": "15eca94d",
   "metadata": {},
   "source": [
    "👉 **Question:** Why would we bother with storing our data in BIDS format?\n",
    "\n",
    "**Answer:**"
   ]
  },
  {
   "cell_type": "markdown",
   "id": "a19abd71",
   "metadata": {},
   "source": [
    "\n",
    "## Part 2: Preprocess example data set\n",
    "\n",
    "🔥 Please take an example block and load the eeg and events data (from the BIDS directory)."
   ]
  },
  {
   "cell_type": "code",
   "execution_count": 3,
   "id": "a32fa599",
   "metadata": {},
   "outputs": [],
   "source": [
    "# Your code goes here. Please add comments."
   ]
  },
  {
   "cell_type": "markdown",
   "id": "12191d7f",
   "metadata": {},
   "source": [
    "🔥 Please plot the raw data. Show examples of (i) clean data, (ii) blinks (look at eog channels), and (iii) muscle artefacts. Print the shape of the data, and indicate what the dimensions correspond to. Print all channel names. Print all channel types."
   ]
  },
  {
   "cell_type": "code",
   "execution_count": 4,
   "id": "ab66b120",
   "metadata": {},
   "outputs": [],
   "source": [
    "# Your code goes here. Please add comments."
   ]
  },
  {
   "cell_type": "markdown",
   "id": "514beef8",
   "metadata": {},
   "source": [
    "👉 **Question:** What kind of information can you extract just from visually inspecting raw EEG traces?\n",
    "\n",
    "**Answer:**"
   ]
  },
  {
   "cell_type": "markdown",
   "id": "0ba77dac",
   "metadata": {},
   "source": [
    "🔥 Please set the channels 'M1', 'M2', 'EXG7' and 'EXG8' to type 'misc', and channels 'UP', 'DOWN', 'LEFT' and 'RIGH' to type 'eog'. Also set the right montage, and plot this. \n",
    "\n",
    "PS: Yes, it is annoying that we did this before. This information did end up correctly in the json sidecar files (check this), but not in the *eeg.bdf files."
   ]
  },
  {
   "cell_type": "code",
   "execution_count": 5,
   "id": "202cde29",
   "metadata": {},
   "outputs": [],
   "source": [
    "# Your code goes here. Please add comments."
   ]
  },
  {
   "cell_type": "markdown",
   "id": "865bcff2",
   "metadata": {},
   "source": [
    "🔥 Please re-reference the EEG data to the average of the two mastoids."
   ]
  },
  {
   "cell_type": "code",
   "execution_count": 6,
   "id": "ee5eb871",
   "metadata": {},
   "outputs": [],
   "source": [
    "# Your code goes here. Please add comments."
   ]
  },
  {
   "cell_type": "markdown",
   "id": "bb1f6b9d",
   "metadata": {},
   "source": [
    "👉 **Question:** Why would you want to re-reference the EEG data? What are common approaches? What are advantages and disadvantages of each?\n",
    "\n",
    "**Answer:**"
   ]
  },
  {
   "cell_type": "markdown",
   "id": "f3c6d32c",
   "metadata": {},
   "source": [
    "🔥 Please combine eog channels into bipolar horizontal (\"HEOG\") and vertical (\"VEOG\") EOG derivations. Check if the resulting channel type is correct."
   ]
  },
  {
   "cell_type": "code",
   "execution_count": 7,
   "id": "7739f95e",
   "metadata": {},
   "outputs": [],
   "source": [
    "# Your code goes here. Please add comments."
   ]
  },
  {
   "cell_type": "markdown",
   "id": "9377ed8a",
   "metadata": {},
   "source": [
    "👉 **Question:** Why do we take the difference between for example the UP and DOWN electrode?\n",
    "\n",
    "**Answer:** "
   ]
  },
  {
   "cell_type": "markdown",
   "id": "a1066abe",
   "metadata": {},
   "source": [
    "🔥 Please apply a bandpass filter. Look up what a bandpass filter is, and use common cutoffs for EEG."
   ]
  },
  {
   "cell_type": "code",
   "execution_count": 8,
   "id": "5a842e92",
   "metadata": {},
   "outputs": [],
   "source": [
    "# Your code goes here. Please add comments."
   ]
  },
  {
   "cell_type": "markdown",
   "id": "6ad8a0c0",
   "metadata": {},
   "source": [
    "👉 **Question:** Why should we filter EEG data? What type of temporal filters are typically applied, and what are common cut-offs? \n",
    "\n",
    "**Answer:**"
   ]
  },
  {
   "cell_type": "markdown",
   "id": "f58669cd",
   "metadata": {},
   "source": [
    "🔥 Please downsample the EEG data to 250Hz."
   ]
  },
  {
   "cell_type": "code",
   "execution_count": 9,
   "id": "7ff6c1a3",
   "metadata": {},
   "outputs": [],
   "source": [
    "# Your code goes here. Please add comments."
   ]
  },
  {
   "cell_type": "markdown",
   "id": "0d9eefd1",
   "metadata": {},
   "source": [
    "👉 **Question:** What are the advantages of downsampling, and why does 250Hz makes sense?\n",
    "\n",
    "**Answer:**"
   ]
  },
  {
   "cell_type": "markdown",
   "id": "7dc72a75",
   "metadata": {},
   "source": [
    "🔥 Please perform independent component analysis and plot the components."
   ]
  },
  {
   "cell_type": "code",
   "execution_count": 10,
   "id": "ec6296a0",
   "metadata": {},
   "outputs": [],
   "source": [
    "# Your code goes here. Please add comments."
   ]
  },
  {
   "cell_type": "markdown",
   "id": "910e6352",
   "metadata": {},
   "source": [
    "👉 **Question:** What does this plot show?  \n",
    "\n",
    "**Answer:** \n"
   ]
  },
  {
   "cell_type": "markdown",
   "id": "ed91fabc",
   "metadata": {},
   "source": [
    "🔥 Please remove components associated with blinks and eye movements. Include diagnostic figures (check with plotting methods exists for ica objects)."
   ]
  },
  {
   "cell_type": "code",
   "execution_count": 11,
   "id": "1a0490ed",
   "metadata": {},
   "outputs": [],
   "source": [
    "# Your code goes here. Please add comments."
   ]
  },
  {
   "cell_type": "markdown",
   "id": "bf73d4e6",
   "metadata": {},
   "source": [
    "👉 **Question:** What do these plot show?  \n",
    "\n",
    "**Answer:** "
   ]
  },
  {
   "cell_type": "markdown",
   "id": "cbc39c26",
   "metadata": {},
   "source": [
    "🔥 Please plot the same bit of data, before and after ica-based artefact removal."
   ]
  },
  {
   "cell_type": "code",
   "execution_count": 12,
   "id": "0d1c95f5",
   "metadata": {},
   "outputs": [],
   "source": [
    "# Your code goes here. Please add comments."
   ]
  },
  {
   "cell_type": "markdown",
   "id": "d178ae77",
   "metadata": {},
   "source": [
    "\n",
    "👉 **Question:** What kinds of artifacts can ICA help to remove in EEG data? Why do we want to do this? \n",
    "\n",
    "**Answer:**"
   ]
  },
  {
   "cell_type": "markdown",
   "id": "15e68e2e",
   "metadata": {},
   "source": [
    "🔥 Please epoch the cleaned data (make sure to use \"event_id\"), by cutting out segments from 500ms before each sound to 1000ms after. Plot the resulting epochs object."
   ]
  },
  {
   "cell_type": "code",
   "execution_count": 13,
   "id": "ab611da5",
   "metadata": {},
   "outputs": [],
   "source": [
    "# Your code goes here. Please add comments."
   ]
  },
  {
   "cell_type": "markdown",
   "id": "027ccfdf",
   "metadata": {},
   "source": [
    "\n",
    "👉 **Question:** Why do we extract epochs relative to events?  \n",
    "\n",
    "**Answer:**\n"
   ]
  },
  {
   "cell_type": "markdown",
   "id": "c4ad6b58",
   "metadata": {},
   "source": [
    "## Part 3: Preprocess all the data\n",
    "\n",
    "🔥 Please put all the code we wrote so far in function called ```preprocess_eeg_data```. The function should take \"bids_path\" as input and return \"epochs\", You can then loop across all data and concatenate all the epochs."
   ]
  },
  {
   "cell_type": "code",
   "execution_count": 14,
   "id": "0daa7a32",
   "metadata": {},
   "outputs": [],
   "source": [
    "# Your code goes here. Please add comments."
   ]
  },
  {
   "cell_type": "markdown",
   "id": "73f646b5",
   "metadata": {},
   "source": [
    "## Part 4: Analyze the data\n",
    "\n",
    "🔥 Please define the following sensor groupings: frontal, central, temporal, parietal and occipital."
   ]
  },
  {
   "cell_type": "code",
   "execution_count": 70,
   "id": "40348081",
   "metadata": {},
   "outputs": [],
   "source": [
    "# define sensor groupings:\n",
    "frontal = ['Fp1', 'AF7', 'AF3', 'F1', 'F3', 'F5', 'F7',\n",
    "           'Fp2', 'AF8', 'AF4', 'F2', 'F4', 'F6', 'F8']\n",
    "central = ['FC5', 'FC3', 'FC1', 'C1', 'C3', 'C5', 'CP5', 'CP3', 'CP1',\n",
    "           'FC6', 'FC4', 'FC2', 'C2', 'C4', 'C6', 'CP6', 'CP4', 'CP2']\n",
    "temporal = ['FT7', 'T7', 'TP7', 'FT8', 'T8', 'TP8',]\n",
    "parietal = ['P1', 'P3', 'P5', 'P7', 'P9', \n",
    "            'P2', 'P4', 'P6', 'P8', 'P10']\n",
    "occipital = ['PO7', 'PO3', 'O1',\n",
    "             'PO8', 'PO4', 'O2']"
   ]
  }
 ],
 "metadata": {
  "kernelspec": {
   "display_name": "Python 3 (ipykernel)",
   "language": "python",
   "name": "python3"
  },
  "language_info": {
   "codemirror_mode": {
    "name": "ipython",
    "version": 3
   },
   "file_extension": ".py",
   "mimetype": "text/x-python",
   "name": "python",
   "nbconvert_exporter": "python",
   "pygments_lexer": "ipython3",
   "version": "3.13.7"
  }
 },
 "nbformat": 4,
 "nbformat_minor": 5
}
